{
 "cells": [
  {
   "cell_type": "markdown",
   "metadata": {},
   "source": [
    "#### Test 1 - Re-ID\n",
    "\n",
    "There's some unrest in the minion ranks: minions with ID numbers like \"1\", \"42\", and other \"good\" numbers have been lording it over the poor minions who are stuck with more boring IDs. To quell the unrest, Commander Lambda has tasked you with reassigning everyone new, random IDs based on her Completely Foolproof Scheme. \n",
    "\n",
    "She's concatenated the prime numbers in a single long string: \"2357111317192329...\". Now every minion must draw a number from a hat. That number is the starting index in that string of primes, and the minion's new ID number will be the next five digits in the string. So if a minion draws \"3\", their ID number will be \"71113\". \n",
    "\n",
    "Help the Commander assign these IDs by writing a function answer(n) which takes in the starting index n of Lambda's string of all primes, and returns the next five digits in the string. Commander Lambda has a lot of minions, so the value of n will always be between 0 and 10000.\n",
    "\n",
    "\n",
    "##### Test cases\n",
    "\n",
    "Inputs: (int) n = 0 -->\n",
    "Output: (string) \"23571\"\n",
    "\n",
    "Inputs: (int) n = 3 -->\n",
    "Output: (string) \"71113\""
   ]
  },
  {
   "cell_type": "code",
   "execution_count": 32,
   "metadata": {},
   "outputs": [
    {
     "data": {
      "text/plain": [
       "'02192'"
      ]
     },
     "execution_count": 32,
     "metadata": {},
     "output_type": "execute_result"
    }
   ],
   "source": [
    "def answer(n):\n",
    "    # According to this site https://primes.utm.edu/howmany.html there are 1229 primes below 10000\n",
    "    # Therefore, with simple arithmetic I can approximately calculate that\n",
    "    # In order to have a string of primes long 10005 from which to draw minions' ID,\n",
    "    # I need to generate all primes in the range (2 - 21000)\n",
    "\n",
    "    def generate_prime_numbers_list():\n",
    "        # Create an empty list to hold the prime numbers\n",
    "        prime_list = []\n",
    "\n",
    "        # Starting value for the prime numbers string\n",
    "        loop = 2\n",
    "        \n",
    "        # The range for finding prime numbers is 2 - 21000 (from https://primes.utm.edu/howmany.html)\n",
    "        max_prime_range = 21000\n",
    "    \n",
    "        while loop < max_prime_range:\n",
    "            isPrime = True\n",
    "\n",
    "            for x in range(2, int(math.sqrt(loop) + 1)):\n",
    "                if loop % x == 0: \n",
    "                    isPrime = False\n",
    "                    break\n",
    "\n",
    "            if isPrime == True:\n",
    "                prime_list.append(loop)\n",
    "\n",
    "            loop += 1\n",
    "\n",
    "        return prime_list\n",
    "    \n",
    "    # Create a string from the list of prime numbers\n",
    "    prime_numbers = generate_prime_numbers_list()\n",
    "    prime_numbers.sort()\n",
    "    prime_numbers_string = \"\".join(str(x) for x in prime_numbers)\n",
    "\n",
    "    # Return the minion ID based on the starting index from Commander Lambda\n",
    "    return prime_numbers_string[n:(n + 5)]\n",
    "\n",
    "answer(10000)\n"
   ]
  },
  {
   "cell_type": "code",
   "execution_count": 27,
   "metadata": {},
   "outputs": [
    {
     "data": {
      "text/plain": [
       "'23571'"
      ]
     },
     "execution_count": 27,
     "metadata": {},
     "output_type": "execute_result"
    }
   ],
   "source": [
    "#########\n",
    "# This is a much slower implementation of the same algorithm. It works, but many times slower.\n",
    "#########\n",
    "\n",
    "def answer(n):\n",
    "    # According to this site https://primes.utm.edu/howmany.html there are 1229 primes below 10000\n",
    "    # Therefore, with simple arithmetic I can approximately calculate that\n",
    "    # I need to generate all primes in the range 2 - 21000\n",
    "    # in order to have a string of primes long 10005 from which to draw minions' ID\n",
    "\n",
    "    # The range for finding prime numbers is 2 - 21000 (from https://primes.utm.edu/howmany.html)\n",
    "    x = 21000\n",
    "    \n",
    "    # Create a function to list all prime numbers in the range [2 - (x+5)]\n",
    "    def non_prime_numbers(x):\n",
    "        non_prime = []\n",
    "\n",
    "    # Test if a number is prime. If it's prime the modulo will not equal 0\n",
    "    # Solution: Create a list of all non-prime numbers,\n",
    "    # which are subtracted from a list of all numbers in the given range\n",
    "        for p in range(2, (x + 5)):\n",
    "            for i in range(2, p - 1):\n",
    "                if p % i == 0:\n",
    "                    non_prime.append(p)\n",
    "        return set(non_prime)\n",
    "\n",
    "    non_prime_list = non_prime_numbers(x)\n",
    "    \n",
    "    # Create a list with all numbers in the range [2 - (x+5)] and subtract the list with non-prime numbers from it\n",
    "    all_numbers = [i for i in range(2, (x + 5))]\n",
    "    prime_numbers = list(set(all_numbers) - set(non_prime_list))\n",
    "    prime_numbers.sort()\n",
    "    prime_numbers_string = \"\".join(str(x) for x in prime_numbers)\n",
    "\n",
    "    # Return the minion ID based on the starting index from Commander Lambda\n",
    "    return prime_numbers_string[n:(n + 5)]\n",
    "\n",
    "answer(0)"
   ]
  },
  {
   "cell_type": "code",
   "execution_count": null,
   "metadata": {
    "collapsed": true
   },
   "outputs": [],
   "source": []
  },
  {
   "cell_type": "markdown",
   "metadata": {},
   "source": [
    "#### Test 2 - Hey, I Already Did That!\n",
    "\n",
    "Commander Lambda uses an automated algorithm to assign minions randomly to tasks, in order to keep her minions on their toes. But you've noticed a flaw in the algorithm - it eventually loops back on itself, so that instead of assigning new minions as it iterates, it gets stuck in a cycle of values so that the same minions end up doing the same tasks over and over again. You think proving this to Commander Lambda will help you make a case for your next promotion. \n",
    "\n",
    "You have worked out that the algorithm has the following process: \n",
    "\n",
    "1) Start with a random minion ID n, which is a nonnegative integer of length k in base b\n",
    "2) Define x and y as integers of length k.  x has the digits of n in descending order, and y has the digits of n in ascending order\n",
    "3) Define z = x - y.  Add leading zeros to z to maintain length k if necessary\n",
    "4) Assign n = z to get the next minion ID, and go back to step 2\n",
    "\n",
    "For example, given minion ID n = 1211, k = 4, b = 10, then x = 2111, y = 1112 and z = 2111 - 1112 = 0999. Then the next minion ID will be n = 0999 and the algorithm iterates again: x = 9990, y = 0999 and z = 9990 - 0999 = 8991, and so on.\n",
    "\n",
    "Depending on the values of n, k (derived from n), and b, at some point the algorithm reaches a cycle, such as by reaching a constant value. For example, starting with n = 210022, k = 6, b = 3, the algorithm will reach the cycle of values [210111, 122221, 102212] and it will stay in this cycle no matter how many times it continues iterating. Starting with n = 1211, the routine will reach the integer 6174, and since 7641 - 1467 is 6174, it will stay as that value no matter how many times it iterates.\n",
    "\n",
    "Given a minion ID as a string n representing a nonnegative integer of length k in base b, where 2 <= k <= 9 and 2 <= b <= 10, write a function answer(n, b) which returns the length of the ending cycle of the algorithm above starting with n. For instance, in the example above, answer(210022, 3) would return 3, since iterating on 102212 would return to 210111 when done in base 3. If the algorithm reaches a constant, such as 0, then the length is 1.\n",
    "\n",
    "##### Test cases\n",
    "\n",
    "Inputs: (string) n = \"1211\"; (int) b = 10 -->\n",
    "Output:\n",
    "    (int) 1\n",
    "\n",
    "Inputs: (string) n = \"210022\"; (int) b = 3 -->\n",
    "Output:\n",
    "    (int) 3"
   ]
  },
  {
   "cell_type": "code",
   "execution_count": 9,
   "metadata": {},
   "outputs": [
    {
     "name": "stdout",
     "output_type": "stream",
     "text": [
      "['101200002121']\n"
     ]
    }
   ],
   "source": [
    "def convertToBase(num,base):\n",
    "    q = num / base\n",
    "    r = num % base\n",
    "    if (q == 0):\n",
    "        return str(r)\n",
    "    else:\n",
    "        return convertToBase(q, base) + str(r)\n",
    "\n",
    "pix = [210022] #the list of numbers you want converted to base b\n",
    "\n",
    "print [convertToBase(x, 3) for x in pix]"
   ]
  },
  {
   "cell_type": "code",
   "execution_count": null,
   "metadata": {
    "collapsed": true
   },
   "outputs": [],
   "source": []
  },
  {
   "cell_type": "code",
   "execution_count": null,
   "metadata": {
    "collapsed": true
   },
   "outputs": [],
   "source": [
    "# Test 2 - Bunny Prisoner Locating\n",
    "\n",
    "def answer(x, y):\n",
    "    # This is a function to create that creates a minion ID from its coordinates\n",
    "    # It does a grid search through the space of possible minion IDs using a coordinate system\n",
    "\n",
    "    \n",
    "    # Find the starting search position on the first row - this is the value on the first row\n",
    "    x_coordinate = sum([x_pos for x_pos in range(1, (x + 1))])\n",
    "    \n",
    "    # Starting from the position on the first row, go up the column to find the minion ID\n",
    "    minion_id = x_coordinate + sum([y_pos for y_pos in range(x, x + (y - 1))])\n",
    "    return str(minion_id)\n",
    "\n",
    "answer(1, 1)"
   ]
  },
  {
   "cell_type": "code",
   "execution_count": null,
   "metadata": {
    "collapsed": true
   },
   "outputs": [],
   "source": []
  },
  {
   "cell_type": "code",
   "execution_count": 1,
   "metadata": {
    "collapsed": true
   },
   "outputs": [],
   "source": [
    "m = [\n",
    "  [0,1,0,0,0,1],  # s0, the initial state, goes to s1 and s5 with equal probability\n",
    "  [4,0,0,3,2,0],  # s1 can become s0, s3, or s4, but with different probabilities\n",
    "  [0,0,0,0,0,0],  # s2 is terminal, and unreachable (never observed in practice)\n",
    "  [0,0,0,0,0,0],  # s3 is terminal\n",
    "  [0,0,0,0,0,0],  # s4 is terminal\n",
    "  [0,0,0,0,0,0],  # s5 is terminal\n",
    "]"
   ]
  },
  {
   "cell_type": "code",
   "execution_count": 2,
   "metadata": {},
   "outputs": [
    {
     "data": {
      "text/plain": [
       "[[0, 1, 0, 0, 0, 1],\n",
       " [4, 0, 0, 3, 2, 0],\n",
       " [0, 0, 0, 0, 0, 0],\n",
       " [0, 0, 0, 0, 0, 0],\n",
       " [0, 0, 0, 0, 0, 0],\n",
       " [0, 0, 0, 0, 0, 0]]"
      ]
     },
     "execution_count": 2,
     "metadata": {},
     "output_type": "execute_result"
    }
   ],
   "source": [
    "m"
   ]
  },
  {
   "cell_type": "code",
   "execution_count": 6,
   "metadata": {},
   "outputs": [
    {
     "data": {
      "text/plain": [
       "False"
      ]
     },
     "execution_count": 6,
     "metadata": {},
     "output_type": "execute_result"
    }
   ],
   "source": [
    "sum(m[1]) == True"
   ]
  },
  {
   "cell_type": "code",
   "execution_count": 51,
   "metadata": {},
   "outputs": [
    {
     "name": "stdout",
     "output_type": "stream",
     "text": [
      "[[0, 0, 0, 1/2], [0, 1/3, 2/9, 0]]\n",
      "[[ 1.  0.]\n",
      " [ 0.  1.]]\n",
      "[[ 1.  0.]\n",
      " [ 0.  1.]]\n",
      "[[ 1.  0.]\n",
      " [ 0.  1.]]\n",
      "[[0.0 0 0 0.500000000000000]\n",
      " [0.0 0.333333333333333 0.222222222222222 0]]\n"
     ]
    }
   ],
   "source": [
    "# Create identity matrix\n",
    "\n",
    "import numpy as np\n",
    "from fractions import Fraction\n",
    "\n",
    "\n",
    "m_q = [\n",
    "    [0, 1/2],\n",
    "    [4/9, 0],\n",
    "]\n",
    "\n",
    "\n",
    "m_r = [\n",
    "    [0, 0, 0, sy.Rational('1/2')],\n",
    "    [0, sy.Rational('3/9'), sy.Rational('2/9'), 0]\n",
    "    \n",
    "]\n",
    "\n",
    "print m_r\n",
    "\n",
    "m_eye = np.eye(2)\n",
    "print m_eye\n",
    "\n",
    "m_f = m_eye - m_q\n",
    "m_f_inverse = np.linalg.inv(m_f)\n",
    "print m_f\n",
    "print m_f_inverse\n",
    "\n",
    "\n",
    "m_fr = np.dot(m_f_inverse, m_r)\n",
    "print m_fr"
   ]
  },
  {
   "cell_type": "code",
   "execution_count": 28,
   "metadata": {},
   "outputs": [
    {
     "data": {
      "text/plain": [
       "Fraction(7720456349654577, 36028797018963968)"
      ]
     },
     "execution_count": 28,
     "metadata": {},
     "output_type": "execute_result"
    }
   ],
   "source": [
    "from fractions import Fraction\n",
    "Fraction(0.21428571)"
   ]
  },
  {
   "cell_type": "code",
   "execution_count": 38,
   "metadata": {},
   "outputs": [
    {
     "name": "stdout",
     "output_type": "stream",
     "text": [
      "[[2/3, 1.0], [-2.0, -1.0]]\n"
     ]
    }
   ],
   "source": [
    "import sympy as sy\n",
    "\n",
    "A = [[-1.,  1.],\n",
    "     [-2., -1.]]\n",
    "A[0][0] = sy.Rational('2/3')\n",
    "\n",
    "print(A)"
   ]
  },
  {
   "cell_type": "code",
   "execution_count": 41,
   "metadata": {},
   "outputs": [
    {
     "data": {
      "text/plain": [
       "1.0"
      ]
     },
     "execution_count": 41,
     "metadata": {},
     "output_type": "execute_result"
    }
   ],
   "source": [
    "A = [[-1.,  1.],\n",
    "     [-2., -1.]]\n",
    "A[0][1]"
   ]
  },
  {
   "cell_type": "code",
   "execution_count": null,
   "metadata": {
    "collapsed": true
   },
   "outputs": [],
   "source": []
  }
 ],
 "metadata": {
  "kernelspec": {
   "display_name": "Python [conda env:py27]",
   "language": "python",
   "name": "conda-env-py27-py"
  },
  "language_info": {
   "codemirror_mode": {
    "name": "ipython",
    "version": 2
   },
   "file_extension": ".py",
   "mimetype": "text/x-python",
   "name": "python",
   "nbconvert_exporter": "python",
   "pygments_lexer": "ipython2",
   "version": "2.7.13"
  }
 },
 "nbformat": 4,
 "nbformat_minor": 2
}
